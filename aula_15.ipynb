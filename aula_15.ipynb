{
 "cells": [
  {
   "cell_type": "code",
   "execution_count": 1,
   "metadata": {},
   "outputs": [],
   "source": [
    "import pandas as pd\n",
    "import matplotlib.pyplot as plt\n",
    "from sklearn.cluster import k_means\n",
    "import seaborn as sns\n",
    "from mpl_toolkits.mplot3d import Axes3D"
   ]
  },
  {
   "cell_type": "code",
   "execution_count": 2,
   "metadata": {},
   "outputs": [],
   "source": [
    "dados = pd.DataFrame({\n",
    "    'Símbolo':[\"AAPL\",\"Google\",\"MSFT\",\"AMZN\",\"TSLA\",\"FB\"],\n",
    "    'Preço':[150.12,2700.45,300.89,3200.10,700.78,350.40],\n",
    "    'Volume de negociação':[3000000,1000000, 2500000,  1200000,5000000,900000 ],\n",
    "    'Capitalização de mercado':[2000000000000, 1800000000000,2200000000000 ,1700000000000,750000000000 , \n",
    "                                900000000000   ]\n",
    "\n",
    "})"
   ]
  },
  {
   "cell_type": "code",
   "execution_count": 3,
   "metadata": {},
   "outputs": [
    {
     "data": {
      "text/html": [
       "<div>\n",
       "<style scoped>\n",
       "    .dataframe tbody tr th:only-of-type {\n",
       "        vertical-align: middle;\n",
       "    }\n",
       "\n",
       "    .dataframe tbody tr th {\n",
       "        vertical-align: top;\n",
       "    }\n",
       "\n",
       "    .dataframe thead th {\n",
       "        text-align: right;\n",
       "    }\n",
       "</style>\n",
       "<table border=\"1\" class=\"dataframe\">\n",
       "  <thead>\n",
       "    <tr style=\"text-align: right;\">\n",
       "      <th></th>\n",
       "      <th>Símbolo</th>\n",
       "      <th>Preço</th>\n",
       "      <th>Volume de negociação</th>\n",
       "      <th>Capitalização de mercado</th>\n",
       "    </tr>\n",
       "  </thead>\n",
       "  <tbody>\n",
       "    <tr>\n",
       "      <th>0</th>\n",
       "      <td>AAPL</td>\n",
       "      <td>150.12</td>\n",
       "      <td>3000000</td>\n",
       "      <td>2000000000000</td>\n",
       "    </tr>\n",
       "    <tr>\n",
       "      <th>1</th>\n",
       "      <td>Google</td>\n",
       "      <td>2700.45</td>\n",
       "      <td>1000000</td>\n",
       "      <td>1800000000000</td>\n",
       "    </tr>\n",
       "    <tr>\n",
       "      <th>2</th>\n",
       "      <td>MSFT</td>\n",
       "      <td>300.89</td>\n",
       "      <td>2500000</td>\n",
       "      <td>2200000000000</td>\n",
       "    </tr>\n",
       "    <tr>\n",
       "      <th>3</th>\n",
       "      <td>AMZN</td>\n",
       "      <td>3200.10</td>\n",
       "      <td>1200000</td>\n",
       "      <td>1700000000000</td>\n",
       "    </tr>\n",
       "    <tr>\n",
       "      <th>4</th>\n",
       "      <td>TSLA</td>\n",
       "      <td>700.78</td>\n",
       "      <td>5000000</td>\n",
       "      <td>750000000000</td>\n",
       "    </tr>\n",
       "  </tbody>\n",
       "</table>\n",
       "</div>"
      ],
      "text/plain": [
       "  Símbolo    Preço  Volume de negociação  Capitalização de mercado\n",
       "0    AAPL   150.12               3000000             2000000000000\n",
       "1  Google  2700.45               1000000             1800000000000\n",
       "2    MSFT   300.89               2500000             2200000000000\n",
       "3    AMZN  3200.10               1200000             1700000000000\n",
       "4    TSLA   700.78               5000000              750000000000"
      ]
     },
     "execution_count": 3,
     "metadata": {},
     "output_type": "execute_result"
    }
   ],
   "source": [
    "dados.head()"
   ]
  },
  {
   "cell_type": "code",
   "execution_count": 4,
   "metadata": {},
   "outputs": [
    {
     "data": {
      "text/plain": [
       "<Axes: xlabel='Símbolo', ylabel='Preço'>"
      ]
     },
     "execution_count": 4,
     "metadata": {},
     "output_type": "execute_result"
    },
    {
     "data": {
      "image/png": "[encoded data removed]",
      "text/plain": [
       "<Figure size 640x480 with 1 Axes>"
      ]
     },
     "metadata": {},
     "output_type": "display_data"
    }
   ],
   "source": [
    "sns.boxplot(x = dados['Símbolo'],y=dados['Preço']) #plota boxplot\n"
   ]
  },
  {
   "cell_type": "code",
   "execution_count": 5,
   "metadata": {},
   "outputs": [],
   "source": [
    "dados_ativos = pd.get_dummies(dados,columns=['Símbolo']) # transforma variaveis categóricas em true ou false\n"
   ]
  },
  {
   "cell_type": "code",
   "execution_count": 6,
   "metadata": {},
   "outputs": [
    {
     "data": {
      "text/html": [
       "<div>\n",
       "<style scoped>\n",
       "    .dataframe tbody tr th:only-of-type {\n",
       "        vertical-align: middle;\n",
       "    }\n",
       "\n",
       "    .dataframe tbody tr th {\n",
       "        vertical-align: top;\n",
       "    }\n",
       "\n",
       "    .dataframe thead th {\n",
       "        text-align: right;\n",
       "    }\n",
       "</style>\n",
       "<table border=\"1\" class=\"dataframe\">\n",
       "  <thead>\n",
       "    <tr style=\"text-align: right;\">\n",
       "      <th></th>\n",
       "      <th>Preço</th>\n",
       "      <th>Volume de negociação</th>\n",
       "      <th>Capitalização de mercado</th>\n",
       "      <th>Símbolo_AAPL</th>\n",
       "      <th>Símbolo_AMZN</th>\n",
       "      <th>Símbolo_FB</th>\n",
       "      <th>Símbolo_Google</th>\n",
       "      <th>Símbolo_MSFT</th>\n",
       "      <th>Símbolo_TSLA</th>\n",
       "    </tr>\n",
       "  </thead>\n",
       "  <tbody>\n",
       "    <tr>\n",
       "      <th>0</th>\n",
       "      <td>150.12</td>\n",
       "      <td>3000000</td>\n",
       "      <td>2000000000000</td>\n",
       "      <td>True</td>\n",
       "      <td>False</td>\n",
       "      <td>False</td>\n",
       "      <td>False</td>\n",
       "      <td>False</td>\n",
       "      <td>False</td>\n",
       "    </tr>\n",
       "    <tr>\n",
       "      <th>1</th>\n",
       "      <td>2700.45</td>\n",
       "      <td>1000000</td>\n",
       "      <td>1800000000000</td>\n",
       "      <td>False</td>\n",
       "      <td>False</td>\n",
       "      <td>False</td>\n",
       "      <td>True</td>\n",
       "      <td>False</td>\n",
       "      <td>False</td>\n",
       "    </tr>\n",
       "    <tr>\n",
       "      <th>2</th>\n",
       "      <td>300.89</td>\n",
       "      <td>2500000</td>\n",
       "      <td>2200000000000</td>\n",
       "      <td>False</td>\n",
       "      <td>False</td>\n",
       "      <td>False</td>\n",
       "      <td>False</td>\n",
       "      <td>True</td>\n",
       "      <td>False</td>\n",
       "    </tr>\n",
       "    <tr>\n",
       "      <th>3</th>\n",
       "      <td>3200.10</td>\n",
       "      <td>1200000</td>\n",
       "      <td>1700000000000</td>\n",
       "      <td>False</td>\n",
       "      <td>True</td>\n",
       "      <td>False</td>\n",
       "      <td>False</td>\n",
       "      <td>False</td>\n",
       "      <td>False</td>\n",
       "    </tr>\n",
       "    <tr>\n",
       "      <th>4</th>\n",
       "      <td>700.78</td>\n",
       "      <td>5000000</td>\n",
       "      <td>750000000000</td>\n",
       "      <td>False</td>\n",
       "      <td>False</td>\n",
       "      <td>False</td>\n",
       "      <td>False</td>\n",
       "      <td>False</td>\n",
       "      <td>True</td>\n",
       "    </tr>\n",
       "    <tr>\n",
       "      <th>5</th>\n",
       "      <td>350.40</td>\n",
       "      <td>900000</td>\n",
       "      <td>900000000000</td>\n",
       "      <td>False</td>\n",
       "      <td>False</td>\n",
       "      <td>True</td>\n",
       "      <td>False</td>\n",
       "      <td>False</td>\n",
       "      <td>False</td>\n",
       "    </tr>\n",
       "  </tbody>\n",
       "</table>\n",
       "</div>"
      ],
      "text/plain": [
       "     Preço  Volume de negociação  Capitalização de mercado  Símbolo_AAPL  \\\n",
       "0   150.12               3000000             2000000000000          True   \n",
       "1  2700.45               1000000             1800000000000         False   \n",
       "2   300.89               2500000             2200000000000         False   \n",
       "3  3200.10               1200000             1700000000000         False   \n",
       "4   700.78               5000000              750000000000         False   \n",
       "5   350.40                900000              900000000000         False   \n",
       "\n",
       "   Símbolo_AMZN  Símbolo_FB  Símbolo_Google  Símbolo_MSFT  Símbolo_TSLA  \n",
       "0         False       False           False         False         False  \n",
       "1         False       False            True         False         False  \n",
       "2         False       False           False          True         False  \n",
       "3          True       False           False         False         False  \n",
       "4         False       False           False         False          True  \n",
       "5         False        True           False         False         False  "
      ]
     },
     "execution_count": 6,
     "metadata": {},
     "output_type": "execute_result"
    }
   ],
   "source": [
    "dados_ativos "
   ]
  },
  {
   "cell_type": "code",
   "execution_count": 7,
   "metadata": {},
   "outputs": [
    {
     "ename": "NameError",
     "evalue": "name 'KMeans' is not defined",
     "output_type": "error",
     "traceback": [
      "\u001b[1;31m---------------------------------------------------------------------------\u001b[0m",
      "\u001b[1;31mNameError\u001b[0m                                 Traceback (most recent call last)",
      "\u001b[1;32mc:\\Users\\yurih\\Documents\\Projetos_Software\\Big_Data\\aula_15.ipynb Cell 7\u001b[0m line \u001b[0;36m1\n\u001b[1;32m----> <a href='vscode-notebook-cell:/c%3A/Users/yurih/Documents/Projetos_Software/Big_Data/aula_15.ipynb#W6sZmlsZQ%3D%3D?line=0'>1</a>\u001b[0m kmeans \u001b[39m=\u001b[39m KMeans(n_clusters\u001b[39m=\u001b[39m\u001b[39m4\u001b[39m)\n\u001b[0;32m      <a href='vscode-notebook-cell:/c%3A/Users/yurih/Documents/Projetos_Software/Big_Data/aula_15.ipynb#W6sZmlsZQ%3D%3D?line=1'>2</a>\u001b[0m kmeans\u001b[39m.\u001b[39mfit(dados_ativos)\n",
      "\u001b[1;31mNameError\u001b[0m: name 'KMeans' is not defined"
     ]
    }
   ],
   "source": [
    "kmeans.fit(dados_ativos)"
   ]
  }
 ],
 "metadata": {
  "kernelspec": {
   "display_name": "Python 3",
   "language": "python",
   "name": "python3"
  },
  "language_info": {
   "codemirror_mode": {
    "name": "ipython",
    "version": 3
   },
   "file_extension": ".py",
   "mimetype": "text/x-python",
   "name": "python",
   "nbconvert_exporter": "python",
   "pygments_lexer": "ipython3",
   "version": "3.11.2"
  }
 },
 "nbformat": 4,
 "nbformat_minor": 2
}
